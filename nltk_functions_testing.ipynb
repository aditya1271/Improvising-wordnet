{
 "cells": [
  {
   "cell_type": "code",
   "execution_count": 2,
   "metadata": {},
   "outputs": [],
   "source": [
    "from nltk.corpus import wordnet as wn\n"
   ]
  },
  {
   "cell_type": "code",
   "execution_count": 30,
   "metadata": {
    "scrolled": true
   },
   "outputs": [
    {
     "name": "stdout",
     "output_type": "stream",
     "text": [
      "\n",
      "\n",
      "----\n",
      "[Synset('computer_science.n.01')]\n",
      "\n",
      "\n",
      "----\n",
      "Type :   <class 'list'>\n",
      "\n",
      "\n",
      "----\n",
      "Definition:   the branch of engineering science that studies (with the aid of computers) computable processes and structures\n",
      "\n",
      "\n",
      "----\n",
      "Example:  []\n"
     ]
    }
   ],
   "source": [
    "# Understanding synsets\n",
    "\n",
    "# ----> basic list creation \n",
    "syn = wn.synsets('computer_science')\n",
    "print(\"\\n\\n----\")\n",
    "print (syn)\n",
    "# ----> type\n",
    "print(\"\\n\\n----\")\n",
    "print(\"Type :  \",type(syn))\n",
    "# ----> Defination\n",
    "print(\"\\n\\n----\")\n",
    "print(\"Definition:  \",syn[0].definition())## sense how is this word used\n",
    "# ----> example\n",
    "print(\"\\n\\n----\")\n",
    "print(\"Example: \",syn[0].examples())## gives us the example how the word is used in phrases"
   ]
  },
  {
   "cell_type": "markdown",
   "metadata": {},
   "source": [
    "# Lexical Relations\n",
    " \n",
    " *   **Hyponym**\n",
    "   * Towards a more specific concept of a given word\n",
    " *   **Hypernym**\n",
    "   * Towards a more gneral concept of a given word\n",
    " *   **Meronyms**\n",
    "   * What things are a part of particular object\n",
    " *   **Holonyms**\n",
    "   * Of which things is a particular object member of"
   ]
  },
  {
   "cell_type": "code",
   "execution_count": 37,
   "metadata": {},
   "outputs": [
    {
     "name": "stdout",
     "output_type": "stream",
     "text": [
      "\n",
      "\n",
      "----\n",
      "Hyponym :   [Synset('artificial_intelligence.n.01'), Synset('object.n.05')]\n",
      "\n",
      "\n",
      "----\n",
      "Hypernyms :   [Synset('engineering.n.02')]\n",
      "\n",
      "\n",
      "---\n",
      "Hypernym Paths :  [[Synset('entity.n.01'), Synset('abstraction.n.06'), Synset('psychological_feature.n.01'), Synset('cognition.n.01'), Synset('content.n.05'), Synset('knowledge_domain.n.01'), Synset('discipline.n.01'), Synset('engineering.n.02'), Synset('computer_science.n.01')]]\n",
      "\n",
      "\n",
      "---\n",
      "1st Hypernym Path :  [Synset('entity.n.01'), Synset('abstraction.n.06'), Synset('psychological_feature.n.01'), Synset('cognition.n.01'), Synset('content.n.05'), Synset('knowledge_domain.n.01'), Synset('discipline.n.01'), Synset('engineering.n.02'), Synset('computer_science.n.01')]\n",
      "\n",
      "\n",
      "---\n",
      "Part Meronyms :   []\n",
      "\n",
      "\n",
      "---\n",
      "Substance Meronyms :   []\n",
      "\n",
      "\n",
      "---\n",
      "Part Holonym :   [Synset('information_science.n.01')]\n",
      "\n",
      "\n",
      "---\n",
      "Substance Holonyms :   []\n",
      "\n",
      "\n",
      "---\n",
      "Temp Part Holonyms :   [Synset('information_science.n.01')]\n",
      "\n",
      "\n",
      "---\n",
      "Temp Substance Holonyms :   []\n"
     ]
    }
   ],
   "source": [
    "# Lexical Relations\n",
    "\n",
    "# Hyponym \n",
    "print(\"\\n\\n----\")\n",
    "print(\"Hyponym :  \",syn[0].hyponyms())\n",
    "\n",
    "# Hypernym \n",
    "\n",
    "print(\"\\n\\n----\")\n",
    "print(\"Hypernyms :  \",syn[0].hypernyms()) \n",
    "\n",
    "# Top level Hypernym and path to go for it\n",
    "\n",
    "print(\"\\n\\n---\")\n",
    "print(\"Hypernym Paths : \", syn[0].hypernym_paths())## Will show multiple paths\n",
    "\n",
    "## Single path \n",
    "\n",
    "print(\"\\n\\n---\")\n",
    "print(\"1st Hypernym Path : \", syn[0].hypernym_paths()[0])## Will show multiple paths\n",
    "\n",
    "\n",
    "##Meronyms \n",
    "\n",
    "print(\"\\n\\n---\")\n",
    "print(\"Part Meronyms :  \", syn[0].part_meronyms())\n",
    "\n",
    "print(\"\\n\\n---\")\n",
    "print(\"Substance Meronyms :  \", syn[0].substance_meronyms())\n",
    "\n",
    "## Holonyms ----> Membership to something(important)\n",
    "\n",
    "print(\"\\n\\n---\")\n",
    "print(\"Part Holonym :  \", syn[0].part_holonyms())\n",
    "\n",
    "print(\"\\n\\n---\")\n",
    "print(\"Substance Holonyms :  \", syn[0].substance_holonyms())\n",
    "\n",
    "## I think it only works for scientific things\n",
    "\n",
    "temp = wn.synset('computer_science.n.01')\n",
    "print(\"\\n\\n---\")\n",
    "print(\"Temp Part Holonyms :  \", temp.part_holonyms())\n",
    "\n",
    "print(\"\\n\\n---\")\n",
    "print(\"Temp Substance Holonyms :  \", temp.substance_holonyms())\n",
    "\n"
   ]
  },
  {
   "cell_type": "markdown",
   "metadata": {},
   "source": [
    "## Analyzing Depths of Particular Word\n",
    "* Basically wordnet is just a huge graph of words.\n",
    "* I think basically the more down a word is in a tree more is depth  basically it is not a height\n",
    "* **Root Node of everything is entity.n.01 , i think!**"
   ]
  },
  {
   "cell_type": "code",
   "execution_count": 46,
   "metadata": {},
   "outputs": [
    {
     "name": "stdout",
     "output_type": "stream",
     "text": [
      "\n",
      "-------\n",
      "depth of : entity.n.01  0\n",
      "\n",
      "-------\n",
      "depth of : computer_science.n.01  8\n",
      "\n",
      "-------\n",
      "depth of : science.n.01  7\n",
      "\n",
      "-------\n",
      "depth of : engeenering.n.01  8\n",
      "\n",
      "-------\n",
      "depth of : mechanical_engeenering.n.01  8\n"
     ]
    }
   ],
   "source": [
    "print(\"\\n-------\")\n",
    "print(\"depth of : entity.n.01 \" , wn.synset('entity.n.01').min_depth())\n",
    "print(\"\\n-------\")\n",
    "print(\"depth of : computer_science.n.01 \" , wn.synset('computer_science.n.01').min_depth())\n",
    "print(\"\\n-------\")\n",
    "print(\"depth of : science.n.01 \" , wn.synset('science.n.01').min_depth())\n",
    "print(\"\\n-------\")\n",
    "print(\"depth of : engeenering.n.01 \" , wn.synset('engineering.n.01').min_depth())\n",
    "print(\"\\n-------\")\n",
    "print(\"depth of : mechanical_engeenering.n.01 \" , wn.synset('mechanical_engineering.n.01').min_depth())\n"
   ]
  },
  {
   "cell_type": "markdown",
   "metadata": {},
   "source": [
    "## See if it is possible to print a word tree?\n",
    "  *  tree(self, rel, depth, cut_mark) ? !maybe(see in wordnet.py file)\n",
    "   * all function of wordnet in wordnet.py\n",
    "   * no do analysis and decide what to we need to do"
   ]
  },
  {
   "cell_type": "code",
   "execution_count": 61,
   "metadata": {},
   "outputs": [
    {
     "name": "stdout",
     "output_type": "stream",
     "text": [
      "[Synset('technology.n.01'),\n",
      " [Synset('aeronautical_engineering.n.02')],\n",
      " [Synset('automotive_technology.n.01')],\n",
      " [Synset('chemical_engineering.n.02')],\n",
      " [Synset('communications_technology.n.01'),\n",
      "  [Synset('digital_communications_technology.n.01')]],\n",
      " [Synset('computer_technology.n.01')],\n",
      " [Synset('high_technology.n.01'),\n",
      "  [Synset('automation.n.01'), [Synset('computerization.n.01')]]],\n",
      " [Synset('rail_technology.n.01'), [Synset('magnetic_levitation.n.01')]]]\n"
     ]
    }
   ],
   "source": [
    " dog = wn.synset('engineering.n.01')\n",
    " hyp = lambda s:s.hyponyms()# can add any lemma\n",
    " from pprint import pprint #pretty print\n",
    " pprint(dog.tree(hyp))"
   ]
  },
  {
   "cell_type": "code",
   "execution_count": null,
   "metadata": {},
   "outputs": [],
   "source": []
  }
 ],
 "metadata": {
  "kernelspec": {
   "display_name": "Python 3",
   "language": "python",
   "name": "python3"
  },
  "language_info": {
   "codemirror_mode": {
    "name": "ipython",
    "version": 3
   },
   "file_extension": ".py",
   "mimetype": "text/x-python",
   "name": "python",
   "nbconvert_exporter": "python",
   "pygments_lexer": "ipython3",
   "version": "3.7.6"
  }
 },
 "nbformat": 4,
 "nbformat_minor": 4
}
