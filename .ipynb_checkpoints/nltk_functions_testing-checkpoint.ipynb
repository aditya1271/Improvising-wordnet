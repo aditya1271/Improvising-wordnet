{
 "cells": [
  {
   "cell_type": "code",
   "execution_count": 2,
   "metadata": {},
   "outputs": [],
   "source": [
    "from nltk.corpus import wordnet as wn\n"
   ]
  },
  {
   "cell_type": "code",
   "execution_count": 3,
   "metadata": {
    "scrolled": true
   },
   "outputs": [
    {
     "name": "stdout",
     "output_type": "stream",
     "text": [
      "\n",
      "\n",
      "----\n",
      "[Synset('computer_science.n.01')]\n",
      "\n",
      "\n",
      "----\n",
      "Type :   <class 'list'>\n",
      "\n",
      "\n",
      "----\n",
      "Definition:   the branch of engineering science that studies (with the aid of computers) computable processes and structures\n",
      "\n",
      "\n",
      "----\n",
      "Example:  []\n"
     ]
    }
   ],
   "source": [
    "# Understanding synsets\n",
    "\n",
    "# ----> basic list creation \n",
    "syn = wn.synsets('computer_science')\n",
    "print(\"\\n\\n----\")\n",
    "print (syn)\n",
    "# ----> type\n",
    "print(\"\\n\\n----\")\n",
    "print(\"Type :  \",type(syn))\n",
    "# ----> Defination\n",
    "print(\"\\n\\n----\")\n",
    "print(\"Definition:  \",syn[0].definition())## sense how is this word used\n",
    "# ----> example\n",
    "print(\"\\n\\n----\")\n",
    "print(\"Example: \",syn[0].examples())## gives us the example how the word is used in phrases"
   ]
  },
  {
   "cell_type": "markdown",
   "metadata": {},
   "source": [
    "   ## Synsets for engineering term"
   ]
  },
  {
   "cell_type": "code",
   "execution_count": 42,
   "metadata": {},
   "outputs": [
    {
     "name": "stdout",
     "output_type": "stream",
     "text": [
      "\n",
      "\n",
      "----\n",
      "[Synset('technology.n.01'), Synset('engineering.n.02'), Synset('engineering.n.03'), Synset('engineer.v.01'), Synset('mastermind.v.01')]\n"
     ]
    }
   ],
   "source": [
    "syn = wn.synsets('engineering')\n",
    "print(\"\\n\\n----\")\n",
    "print (syn)"
   ]
  },
  {
   "cell_type": "code",
   "execution_count": 43,
   "metadata": {},
   "outputs": [
    {
     "name": "stdout",
     "output_type": "stream",
     "text": [
      "\n",
      "\n",
      "----\n",
      "[Synset('computer_science.n.01')]\n"
     ]
    }
   ],
   "source": [
    "syn = wn.synsets('computer_science')\n",
    "print(\"\\n\\n----\")\n",
    "print (syn)"
   ]
  },
  {
   "cell_type": "markdown",
   "metadata": {},
   "source": [
    "# Lexical Relations\n",
    " \n",
    " *   **Hyponym**\n",
    "   * Towards a more specific concept of a given word\n",
    " *   **Hypernym**\n",
    "   * Towards a more gneral concept of a given word\n",
    " *   **Meronyms**\n",
    "   * What things are a part of particular object\n",
    " *   **Holonyms**\n",
    "   * Of which things is a particular object member of"
   ]
  },
  {
   "cell_type": "code",
   "execution_count": 4,
   "metadata": {},
   "outputs": [
    {
     "name": "stdout",
     "output_type": "stream",
     "text": [
      "\n",
      "\n",
      "----\n",
      "Hyponym :   [Synset('artificial_intelligence.n.01'), Synset('object.n.05')]\n",
      "\n",
      "\n",
      "----\n",
      "Hypernyms :   [Synset('engineering.n.02')]\n",
      "\n",
      "\n",
      "---\n",
      "Hypernym Paths :  [[Synset('entity.n.01'), Synset('abstraction.n.06'), Synset('psychological_feature.n.01'), Synset('cognition.n.01'), Synset('content.n.05'), Synset('knowledge_domain.n.01'), Synset('discipline.n.01'), Synset('engineering.n.02'), Synset('computer_science.n.01')]]\n",
      "\n",
      "\n",
      "---\n",
      "1st Hypernym Path :  [Synset('entity.n.01'), Synset('abstraction.n.06'), Synset('psychological_feature.n.01'), Synset('cognition.n.01'), Synset('content.n.05'), Synset('knowledge_domain.n.01'), Synset('discipline.n.01'), Synset('engineering.n.02'), Synset('computer_science.n.01')]\n",
      "\n",
      "\n",
      "---\n",
      "Part Meronyms :   []\n",
      "\n",
      "\n",
      "---\n",
      "Substance Meronyms :   []\n",
      "\n",
      "\n",
      "---\n",
      "Part Holonym :   [Synset('information_science.n.01')]\n",
      "\n",
      "\n",
      "---\n",
      "Substance Holonyms :   []\n",
      "\n",
      "\n",
      "---\n",
      "Temp Part Holonyms :   [Synset('information_science.n.01')]\n",
      "\n",
      "\n",
      "---\n",
      "Temp Substance Holonyms :   []\n"
     ]
    }
   ],
   "source": [
    "# Lexical Relations\n",
    "\n",
    "# Hyponym \n",
    "print(\"\\n\\n----\")\n",
    "print(\"Hyponym :  \",syn[0].hyponyms())\n",
    "\n",
    "# Hypernym \n",
    "\n",
    "print(\"\\n\\n----\")\n",
    "print(\"Hypernyms :  \",syn[0].hypernyms()) \n",
    "\n",
    "# Top level Hypernym and path to go for it\n",
    "\n",
    "print(\"\\n\\n---\")\n",
    "print(\"Hypernym Paths : \", syn[0].hypernym_paths())## Will show multiple paths\n",
    "\n",
    "## Single path \n",
    "\n",
    "print(\"\\n\\n---\")\n",
    "print(\"1st Hypernym Path : \", syn[0].hypernym_paths()[0])## Will show multiple paths\n",
    "\n",
    "\n",
    "##Meronyms \n",
    "\n",
    "print(\"\\n\\n---\")\n",
    "print(\"Part Meronyms :  \", syn[0].part_meronyms())\n",
    "\n",
    "print(\"\\n\\n---\")\n",
    "print(\"Substance Meronyms :  \", syn[0].substance_meronyms())\n",
    "\n",
    "## Holonyms ----> Membership to something(important)\n",
    "\n",
    "print(\"\\n\\n---\")\n",
    "print(\"Part Holonym :  \", syn[0].part_holonyms())\n",
    "\n",
    "print(\"\\n\\n---\")\n",
    "print(\"Substance Holonyms :  \", syn[0].substance_holonyms())\n",
    "\n",
    "## I think it only works for scientific things\n",
    "\n",
    "temp = wn.synset('computer_science.n.01')\n",
    "print(\"\\n\\n---\")\n",
    "print(\"Temp Part Holonyms :  \", temp.part_holonyms())\n",
    "\n",
    "print(\"\\n\\n---\")\n",
    "print(\"Temp Substance Holonyms :  \", temp.substance_holonyms())\n",
    "\n"
   ]
  },
  {
   "cell_type": "markdown",
   "metadata": {},
   "source": [
    "## Analyzing Depths of Particular Word\n",
    "* Basically wordnet is just a huge graph of words.\n",
    "* I think basically the more down a word is in a tree more is depth  basically it is not a height\n",
    "* **Root Node of everything is entity.n.01 , i think!**"
   ]
  },
  {
   "cell_type": "code",
   "execution_count": 5,
   "metadata": {},
   "outputs": [
    {
     "name": "stdout",
     "output_type": "stream",
     "text": [
      "\n",
      "-------\n",
      "depth of : entity.n.01  0\n",
      "\n",
      "-------\n",
      "depth of : computer_science.n.01  8\n",
      "\n",
      "-------\n",
      "depth of : science.n.01  7\n",
      "\n",
      "-------\n",
      "depth of : engeenering.n.01  8\n",
      "\n",
      "-------\n",
      "depth of : mechanical_engeenering.n.01  8\n"
     ]
    }
   ],
   "source": [
    "print(\"\\n-------\")\n",
    "print(\"depth of : entity.n.01 \" , wn.synset('entity.n.01').min_depth())\n",
    "print(\"\\n-------\")\n",
    "print(\"depth of : computer_science.n.01 \" , wn.synset('computer_science.n.01').min_depth())\n",
    "print(\"\\n-------\")\n",
    "print(\"depth of : science.n.01 \" , wn.synset('science.n.01').min_depth())\n",
    "print(\"\\n-------\")\n",
    "print(\"depth of : engeenering.n.01 \" , wn.synset('engineering.n.01').min_depth())\n",
    "print(\"\\n-------\")\n",
    "print(\"depth of : mechanical_engeenering.n.01 \" , wn.synset('mechanical_engineering.n.01').min_depth())\n"
   ]
  },
  {
   "cell_type": "markdown",
   "metadata": {},
   "source": [
    "## See if it is possible to print a word tree?\n",
    "  *  tree(self, rel, depth, cut_mark) ? !maybe(see in wordnet.py file)\n",
    "   * all function of wordnet in wordnet.py\n",
    "   * now do analysis and decide what to we need to do"
   ]
  },
  {
   "cell_type": "code",
   "execution_count": 6,
   "metadata": {},
   "outputs": [
    {
     "name": "stdout",
     "output_type": "stream",
     "text": [
      "[Synset('dog.n.01'),\n",
      " [Synset('canine.n.02'),\n",
      "  [Synset('carnivore.n.01'),\n",
      "   [Synset('placental.n.01'),\n",
      "    [Synset('mammal.n.01'),\n",
      "     [Synset('vertebrate.n.01'),\n",
      "      [Synset('chordate.n.01'),\n",
      "       [Synset('animal.n.01'),\n",
      "        [Synset('organism.n.01'),\n",
      "         [Synset('living_thing.n.01'),\n",
      "          [Synset('whole.n.02'),\n",
      "           [Synset('object.n.01'),\n",
      "            [Synset('physical_entity.n.01'),\n",
      "             [Synset('entity.n.01')]]]]]]]]]]]]],\n",
      " [Synset('domestic_animal.n.01'),\n",
      "  [Synset('animal.n.01'),\n",
      "   [Synset('organism.n.01'),\n",
      "    [Synset('living_thing.n.01'),\n",
      "     [Synset('whole.n.02'),\n",
      "      [Synset('object.n.01'),\n",
      "       [Synset('physical_entity.n.01'), [Synset('entity.n.01')]]]]]]]]]\n"
     ]
    }
   ],
   "source": [
    " dog = wn.synset('dog.n.01')\n",
    " hyp = lambda s:s.hypernyms()# can add any lemma\n",
    " from pprint import pprint #pretty print\n",
    " pprint(dog.tree(hyp))"
   ]
  },
  {
   "cell_type": "markdown",
   "metadata": {},
   "source": [
    "## Exploring more trees"
   ]
  },
  {
   "cell_type": "code",
   "execution_count": 30,
   "metadata": {
    "scrolled": true
   },
   "outputs": [
    {
     "name": "stdout",
     "output_type": "stream",
     "text": [
      "[Synset('natural_language_processing.n.01'),\n",
      " [Synset('information_science.n.01'),\n",
      "  [Synset('science.n.01'),\n",
      "   [Synset('discipline.n.01'),\n",
      "    [Synset('knowledge_domain.n.01'),\n",
      "     [Synset('content.n.05'),\n",
      "      [Synset('cognition.n.01'),\n",
      "       [Synset('psychological_feature.n.01'),\n",
      "        [Synset('abstraction.n.06'), [Synset('entity.n.01')]]]]]]]]]]\n"
     ]
    }
   ],
   "source": [
    "from pprint import pprint\n",
    "temp = wn.synset('natural_language_processing.n.01')\n",
    "hyp = lambda s:s.hypernyms()\n",
    "pprint(temp.tree(hyp))"
   ]
  },
  {
   "cell_type": "code",
   "execution_count": 32,
   "metadata": {},
   "outputs": [
    {
     "name": "stdout",
     "output_type": "stream",
     "text": [
      "[Synset('information_science.n.01'),\n",
      " [Synset('cybernetics.n.01')],\n",
      " [Synset('natural_language_processing.n.01')]]\n"
     ]
    }
   ],
   "source": [
    "from pprint import pprint\n",
    "temp = wn.synset('information_science.n.01')\n",
    "hyp = lambda s:s.hyponyms()\n",
    "pprint(temp.tree(hyp))"
   ]
  },
  {
   "cell_type": "code",
   "execution_count": 38,
   "metadata": {},
   "outputs": [
    {
     "name": "stdout",
     "output_type": "stream",
     "text": [
      "[Synset('computer_science.n.01'),\n",
      " [Synset('engineering.n.02'),\n",
      "  [Synset('discipline.n.01'),\n",
      "   [Synset('knowledge_domain.n.01'),\n",
      "    [Synset('content.n.05'),\n",
      "     [Synset('cognition.n.01'),\n",
      "      [Synset('psychological_feature.n.01'),\n",
      "       [Synset('abstraction.n.06'), [Synset('entity.n.01')]]]]]]]]]\n"
     ]
    }
   ],
   "source": [
    "from pprint import pprint\n",
    "temp = wn.synset('computer_science.n.01')\n",
    "hyp = lambda s:s.hypernyms()\n",
    "pprint(temp.tree(hyp))"
   ]
  },
  {
   "cell_type": "markdown",
   "metadata": {},
   "source": [
    "## Different trees of synsets of the same word(engineering)\n",
    "  * We have to consider different synsets of the same word (only nouns) , as may contain different things in tree\n",
    "  "
   ]
  },
  {
   "cell_type": "code",
   "execution_count": 40,
   "metadata": {},
   "outputs": [
    {
     "name": "stdout",
     "output_type": "stream",
     "text": [
      "[Synset('engineering.n.02'),\n",
      " [Synset('aeronautical_engineering.n.01')],\n",
      " [Synset('architectural_engineering.n.01')],\n",
      " [Synset('bionics.n.01')],\n",
      " [Synset('biotechnology.n.02')],\n",
      " [Synset('chemical_engineering.n.01')],\n",
      " [Synset('civil_engineering.n.01'), [Synset('hydraulic_engineering.n.01')]],\n",
      " [Synset('computer_science.n.01'),\n",
      "  [Synset('artificial_intelligence.n.01'),\n",
      "   [Synset('machine_translation.n.01')],\n",
      "   [Synset('robotics.n.01'),\n",
      "    [Synset('animatronics.n.01')],\n",
      "    [Synset('telerobotics.n.01')]]],\n",
      "  [Synset('object.n.05')]],\n",
      " [Synset('electrical_engineering.n.01'), [Synset('telecommunication.n.02')]],\n",
      " [Synset('industrial_engineering.n.01')],\n",
      " [Synset('information_technology.n.01')],\n",
      " [Synset('mechanical_engineering.n.01'), [Synset('tribology.n.01')]],\n",
      " [Synset('nanotechnology.n.01')],\n",
      " [Synset('naval_engineering.n.01')],\n",
      " [Synset('nuclear_engineering.n.01')],\n",
      " [Synset('rocketry.n.01')]]\n"
     ]
    }
   ],
   "source": [
    "from pprint import pprint\n",
    "temp = wn.synset('engineering.n.02')\n",
    "hyp = lambda s:s.hyponyms()\n",
    "pprint(temp.tree(hyp))"
   ]
  },
  {
   "cell_type": "code",
   "execution_count": 44,
   "metadata": {},
   "outputs": [
    {
     "name": "stdout",
     "output_type": "stream",
     "text": [
      "[Synset('engineering.n.03')]\n"
     ]
    }
   ],
   "source": [
    "from pprint import pprint\n",
    "temp = wn.synset('engineering.n.03')\n",
    "hyp = lambda s:s.hyponyms()\n",
    "pprint(temp.tree(hyp))"
   ]
  },
  {
   "cell_type": "code",
   "execution_count": 45,
   "metadata": {},
   "outputs": [
    {
     "name": "stdout",
     "output_type": "stream",
     "text": [
      "[Synset('technology.n.01'),\n",
      " [Synset('aeronautical_engineering.n.02')],\n",
      " [Synset('automotive_technology.n.01')],\n",
      " [Synset('chemical_engineering.n.02')],\n",
      " [Synset('communications_technology.n.01'),\n",
      "  [Synset('digital_communications_technology.n.01')]],\n",
      " [Synset('computer_technology.n.01')],\n",
      " [Synset('high_technology.n.01'),\n",
      "  [Synset('automation.n.01'), [Synset('computerization.n.01')]]],\n",
      " [Synset('rail_technology.n.01'), [Synset('magnetic_levitation.n.01')]]]\n"
     ]
    }
   ],
   "source": [
    "from pprint import pprint\n",
    "temp = wn.synset('engineering.n.01')\n",
    "hyp = lambda s:s.hyponyms()\n",
    "pprint(temp.tree(hyp))"
   ]
  },
  {
   "cell_type": "code",
   "execution_count": 46,
   "metadata": {},
   "outputs": [
    {
     "name": "stdout",
     "output_type": "stream",
     "text": [
      "[Synset('technology.n.01'),\n",
      " [Synset('aeronautical_engineering.n.02')],\n",
      " [Synset('automotive_technology.n.01')],\n",
      " [Synset('chemical_engineering.n.02')],\n",
      " [Synset('communications_technology.n.01'),\n",
      "  [Synset('digital_communications_technology.n.01')]],\n",
      " [Synset('computer_technology.n.01')],\n",
      " [Synset('high_technology.n.01'),\n",
      "  [Synset('automation.n.01'), [Synset('computerization.n.01')]]],\n",
      " [Synset('rail_technology.n.01'), [Synset('magnetic_levitation.n.01')]]]\n"
     ]
    }
   ],
   "source": [
    "from pprint import pprint\n",
    "temp = wn.synset('technology.n.01')\n",
    "hyp = lambda s:s.hyponyms()\n",
    "pprint(temp.tree(hyp))"
   ]
  },
  {
   "cell_type": "markdown",
   "metadata": {},
   "source": [
    " \n",
    " ## Domain relation left?\n",
    "    \n",
    "   * Seeing and doing in wordnet.py\n",
    "     * function called\n",
    "        \n",
    "        \n",
    "        ```python\n",
    "    def topic_domains(self):\n",
    "        return self._related(';c')\n",
    "\n",
    "    def in_topic_domains(self):\n",
    "        return self._related('-c')\n",
    "\n",
    "    def region_domains(self):\n",
    "        return self._related(';r')\n",
    "\n",
    "    def in_region_domains(self):\n",
    "        return self._related('-r')\n",
    "\n",
    "    def usage_domains(self):\n",
    "        return self._related(';u')\n",
    "\n",
    "    def in_usage_domains(self):\n",
    "        return self._related('-u')\n",
    "        ```\n",
    "     * not getting much domain information   \n",
    "       * see that this information is recieved\n",
    " [wordnet domain github](#https://github.com/mananmadan/wordnet-domains-sentiwords)\n",
    " \n",
    " \n",
    " [stackoverflow same problem](#https://stackoverflow.com/questions/13881425/get-wordnets-domain-name-for-the-specified-word)\n",
    "       Maybe see this\n",
    "       \n",
    " \n",
    " \n",
    " * Domain relations are not usefull to us , see this link **[Domans List](#http://wndomains.fbk.eu/labels.html)**\n",
    "   \n",
    "\n"
   ]
  },
  {
   "cell_type": "code",
   "execution_count": 67,
   "metadata": {},
   "outputs": [
    {
     "name": "stdout",
     "output_type": "stream",
     "text": [
      "[]\n"
     ]
    }
   ],
   "source": [
    "temp = wn.synset('dog.n.01')\n",
    "print(temp.in_usage_domains())"
   ]
  },
  {
   "cell_type": "code",
   "execution_count": null,
   "metadata": {},
   "outputs": [],
   "source": []
  }
 ],
 "metadata": {
  "kernelspec": {
   "display_name": "Python 3",
   "language": "python",
   "name": "python3"
  },
  "language_info": {
   "codemirror_mode": {
    "name": "ipython",
    "version": 3
   },
   "file_extension": ".py",
   "mimetype": "text/x-python",
   "name": "python",
   "nbconvert_exporter": "python",
   "pygments_lexer": "ipython3",
   "version": "3.7.6"
  }
 },
 "nbformat": 4,
 "nbformat_minor": 4
}
