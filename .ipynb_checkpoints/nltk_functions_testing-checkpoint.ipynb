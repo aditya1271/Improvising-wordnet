{
 "cells": [
  {
   "cell_type": "code",
   "execution_count": 2,
   "metadata": {},
   "outputs": [],
   "source": [
    "from nltk.corpus import wordnet as wn\n"
   ]
  },
  {
   "cell_type": "code",
   "execution_count": 30,
   "metadata": {
    "scrolled": true
   },
   "outputs": [
    {
     "name": "stdout",
     "output_type": "stream",
     "text": [
      "\n",
      "\n",
      "----\n",
      "[Synset('computer_science.n.01')]\n",
      "\n",
      "\n",
      "----\n",
      "Type :   <class 'list'>\n",
      "\n",
      "\n",
      "----\n",
      "Definition:   the branch of engineering science that studies (with the aid of computers) computable processes and structures\n",
      "\n",
      "\n",
      "----\n",
      "Example:  []\n"
     ]
    }
   ],
   "source": [
    "# Understanding synsets\n",
    "\n",
    "# ----> basic list creation \n",
    "syn = wn.synsets('computer_science')\n",
    "print(\"\\n\\n----\")\n",
    "print (syn)\n",
    "# ----> type\n",
    "print(\"\\n\\n----\")\n",
    "print(\"Type :  \",type(syn))\n",
    "# ----> Defination\n",
    "print(\"\\n\\n----\")\n",
    "print(\"Definition:  \",syn[0].definition())## sense how is this word used\n",
    "# ----> example\n",
    "print(\"\\n\\n----\")\n",
    "print(\"Example: \",syn[0].examples())## gives us the example how the word is used in phrases"
   ]
  },
  {
   "cell_type": "markdown",
   "metadata": {},
   "source": [
    "# Lexical Relations\n",
    " \n",
    " *   Hyponym\n",
    "   * Meaning Toward a more specific concept of a given word\n",
    " *   Hypernym\n",
    "   * Meaning toward a more gneral concept of a given word\n",
    " *   Meronyms\n",
    "   * What things are a part of particular object\n",
    " *   Holonyms\n",
    "   * Of which things is a particular object member of"
   ]
  },
  {
   "cell_type": "code",
   "execution_count": 36,
   "metadata": {},
   "outputs": [
    {
     "name": "stdout",
     "output_type": "stream",
     "text": [
      "\n",
      "\n",
      "----\n",
      "Hyponym :   [Synset('artificial_intelligence.n.01'), Synset('object.n.05')]\n",
      "\n",
      "\n",
      "----\n",
      "Hypernyms :   [Synset('engineering.n.02')]\n",
      "\n",
      "\n",
      "---\n",
      "Hypernym Paths :  [[Synset('entity.n.01'), Synset('abstraction.n.06'), Synset('psychological_feature.n.01'), Synset('cognition.n.01'), Synset('content.n.05'), Synset('knowledge_domain.n.01'), Synset('discipline.n.01'), Synset('engineering.n.02'), Synset('computer_science.n.01')]]\n",
      "\n",
      "\n",
      "---\n",
      "1st Hypernym Path :  [Synset('entity.n.01'), Synset('abstraction.n.06'), Synset('psychological_feature.n.01'), Synset('cognition.n.01'), Synset('content.n.05'), Synset('knowledge_domain.n.01'), Synset('discipline.n.01'), Synset('engineering.n.02'), Synset('computer_science.n.01')]\n",
      "\n",
      "\n",
      "---\n",
      "Part Meronyms :   []\n",
      "\n",
      "\n",
      "---\n",
      "Substance Meronyms :   []\n",
      "\n",
      "\n",
      "---\n",
      "Part Holonym :   [Synset('information_science.n.01')]\n",
      "\n",
      "\n",
      "---\n",
      "Substance Holonyms :   []\n",
      "\n",
      "\n",
      "---\n",
      "Temp Part Holonyms :   [Synset('information_science.n.01')]\n",
      "\n",
      "\n",
      "---\n",
      "Temp Substance Holonyms :   []\n"
     ]
    }
   ],
   "source": [
    "# Lexical Relations\n",
    "\n",
    "# Hyponym --> more specific concept\n",
    "print(\"\\n\\n----\")\n",
    "print(\"Hyponym :  \",syn[0].hyponyms())# ---> dog breeds\n",
    "# Hypernym --> toward a general concept (opposite of hyponyms)\n",
    "print(\"\\n\\n----\")\n",
    "print(\"Hypernyms :  \",syn[0].hypernyms()) #---> canine and domestic animal\n",
    "\n",
    "# Top level Hypernym and path to go for it\n",
    "print(\"\\n\\n---\")\n",
    "print(\"Hypernym Paths : \", syn[0].hypernym_paths())## Will show multiple paths\n",
    "\n",
    "## Single path \n",
    "\n",
    "print(\"\\n\\n---\")\n",
    "print(\"1st Hypernym Path : \", syn[0].hypernym_paths()[0])## Will show multiple paths\n",
    "\n",
    "#print(\"\\n\\n---\")\n",
    "#print(\"2nd Hypernym Path : \", syn[0].hypernym_paths()[1])## Will show multiple paths\n",
    "\n",
    "##Meronyms ----> what things are part of the particular object\n",
    "print(\"\\n\\n---\")\n",
    "print(\"Part Meronyms :  \", syn[0].part_meronyms())\n",
    "\n",
    "print(\"\\n\\n---\")\n",
    "print(\"Substance Meronyms :  \", syn[0].substance_meronyms())\n",
    "\n",
    "## Holonyms ----> Membership to something(important)\n",
    "print(\"\\n\\n---\")\n",
    "print(\"Part Holonym :  \", syn[0].part_holonyms())\n",
    "\n",
    "print(\"\\n\\n---\")\n",
    "print(\"Substance Holonyms :  \", syn[0].substance_holonyms())\n",
    "   ## I think it only works for scientific things\n",
    "\n",
    "temp = wn.synset('computer_science.n.01')\n",
    "print(\"\\n\\n---\")\n",
    "print(\"Temp Part Holonyms :  \", temp.part_holonyms())\n",
    "\n",
    "print(\"\\n\\n---\")\n",
    "print(\"Temp Substance Holonyms :  \", temp.substance_holonyms())\n",
    "\n"
   ]
  },
  {
   "cell_type": "code",
   "execution_count": null,
   "metadata": {},
   "outputs": [],
   "source": []
  },
  {
   "cell_type": "code",
   "execution_count": null,
   "metadata": {},
   "outputs": [],
   "source": [
    "## Analyzin"
   ]
  }
 ],
 "metadata": {
  "kernelspec": {
   "display_name": "Python 3",
   "language": "python",
   "name": "python3"
  },
  "language_info": {
   "codemirror_mode": {
    "name": "ipython",
    "version": 3
   },
   "file_extension": ".py",
   "mimetype": "text/x-python",
   "name": "python",
   "nbconvert_exporter": "python",
   "pygments_lexer": "ipython3",
   "version": "3.7.6"
  }
 },
 "nbformat": 4,
 "nbformat_minor": 4
}
